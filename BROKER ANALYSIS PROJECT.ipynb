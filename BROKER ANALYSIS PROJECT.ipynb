{
 "cells": [
  {
   "cell_type": "code",
   "execution_count": 0,
   "metadata": {
    "application/vnd.databricks.v1+cell": {
     "cellMetadata": {
      "byteLimit": 2048000,
      "rowLimit": 10000
     },
     "inputWidgets": {},
     "nuid": "daf6c9c8-1144-4e17-a2ea-74c7854feb0c",
     "showTitle": false,
     "tableResultSettingsMap": {},
     "title": ""
    }
   },
   "outputs": [],
   "source": [
    "import pandas as pd\n",
    "import numpy as np\n",
    "import matplotlib.pyplot as plt\n",
    "import seaborn as sns\n",
    "import warnings \n",
    "warnings.filterwarnings(\"ignore\")"
   ]
  },
  {
   "cell_type": "code",
   "execution_count": 0,
   "metadata": {
    "application/vnd.databricks.v1+cell": {
     "cellMetadata": {
      "byteLimit": 2048000,
      "rowLimit": 10000
     },
     "inputWidgets": {},
     "nuid": "c44dcbab-d296-494e-b4f5-af7be76312d0",
     "showTitle": false,
     "tableResultSettingsMap": {},
     "title": ""
    }
   },
   "outputs": [],
   "source": [
    "customers = pd.read_csv(\"/Workspace/Users/kathalenikhil741@gmail.com/Customers.csv\")\n",
    "engagement = pd.read_csv(\"/Workspace/Users/kathalenikhil741@gmail.com/Engagement.csv\")\n",
    "portfolio = pd.read_csv(\"/Workspace/Users/kathalenikhil741@gmail.com/Portfolio.csv\")\n",
    "support = pd.read_csv(\"/Workspace/Users/kathalenikhil741@gmail.com/Support.csv\")\n",
    "trading = pd.read_csv(\"/Workspace/Users/kathalenikhil741@gmail.com/TradingActivity.csv\")"
   ]
  },
  {
   "cell_type": "markdown",
   "metadata": {
    "application/vnd.databricks.v1+cell": {
     "cellMetadata": {
      "byteLimit": 2048000,
      "rowLimit": 10000
     },
     "inputWidgets": {},
     "nuid": "97fbab8f-5553-4b58-a063-c23be46967e6",
     "showTitle": false,
     "tableResultSettingsMap": {},
     "title": ""
    }
   },
   "source": [
    "##DATA OVERVIEW "
   ]
  },
  {
   "cell_type": "code",
   "execution_count": 0,
   "metadata": {
    "application/vnd.databricks.v1+cell": {
     "cellMetadata": {
      "byteLimit": 2048000,
      "rowLimit": 10000
     },
     "inputWidgets": {},
     "nuid": "d5b87054-9a58-4df1-a566-6493450f917a",
     "showTitle": false,
     "tableResultSettingsMap": {},
     "title": ""
    }
   },
   "outputs": [
    {
     "output_type": "stream",
     "name": "stdout",
     "output_type": "stream",
     "text": [
      "Customers: (50000, 6)\nEngagement: (50000, 5)\nPortfolio: (145994, 5)\nSupport: (50000, 5)\nTradingActivity: (200000, 7)\n"
     ]
    }
   ],
   "source": [
    "print(\"Customers:\", customers.shape)\n",
    "print(\"Engagement:\", engagement.shape)\n",
    "print(\"Portfolio:\", portfolio.shape)\n",
    "print(\"Support:\", support.shape)\n",
    "print(\"TradingActivity:\", trading.shape)\n"
   ]
  },
  {
   "cell_type": "code",
   "execution_count": 0,
   "metadata": {
    "application/vnd.databricks.v1+cell": {
     "cellMetadata": {
      "byteLimit": 2048000,
      "rowLimit": 10000
     },
     "inputWidgets": {},
     "nuid": "c9809594-7e3f-4c17-9be4-1bc374834133",
     "showTitle": false,
     "tableResultSettingsMap": {},
     "title": ""
    }
   },
   "outputs": [
    {
     "output_type": "stream",
     "name": "stdout",
     "output_type": "stream",
     "text": [
      "Customers: <bound method DataFrame.info of                                 customer_id  ... account_open_date\n0      fd94fe1f-8eb2-4623-aa3c-42040b84dad9  ...        31-12-2023\n1      748ad9c4-43c9-40e7-ad3d-7173827abe5e  ...        05-10-2020\n2      0cdbb69c-14c0-46e6-aaae-63ac632eceea  ...        07-05-2024\n3      940c4ee2-1b31-4c61-942b-fe6256ddb797  ...        17-09-2020\n4      b98d8294-d450-4b5b-bcc8-dce9587ebea5  ...        12-07-2021\n...                                     ...  ...               ...\n49995  e423b767-6e69-463c-8be3-44cdb8c1a835  ...        12-12-2023\n49996  c7c57773-f556-44da-948f-08d771cc25cd  ...        16-09-2022\n49997  5c3a6120-c325-471f-b86b-6d1148ec3321  ...        17-12-2023\n49998  dfd653ee-631c-4cc7-95b6-52749576175e  ...        26-05-2024\n49999  5159e48f-f81b-4cb5-8ef1-d096094e62ea  ...        30-06-2023\n\n[50000 rows x 6 columns]>\nEngagement: <bound method DataFrame.info of                                 customer_id  ...  last_active_date\n0      fd94fe1f-8eb2-4623-aa3c-42040b84dad9  ...        24-08-2025\n1      748ad9c4-43c9-40e7-ad3d-7173827abe5e  ...        24-08-2025\n2      0cdbb69c-14c0-46e6-aaae-63ac632eceea  ...        24-08-2025\n3      940c4ee2-1b31-4c61-942b-fe6256ddb797  ...        24-08-2025\n4      b98d8294-d450-4b5b-bcc8-dce9587ebea5  ...        24-08-2025\n...                                     ...  ...               ...\n49995  e423b767-6e69-463c-8be3-44cdb8c1a835  ...        24-08-2025\n49996  c7c57773-f556-44da-948f-08d771cc25cd  ...        24-08-2025\n49997  5c3a6120-c325-471f-b86b-6d1148ec3321  ...        24-08-2025\n49998  dfd653ee-631c-4cc7-95b6-52749576175e  ...        24-08-2025\n49999  5159e48f-f81b-4cb5-8ef1-d096094e62ea  ...        24-08-2025\n\n[50000 rows x 5 columns]>\nPortfolio: <bound method DataFrame.info of                                  customer_id  ...                          portfolio_id\n0       00001773-c1a6-4652-8ba9-dc6eefcd4cd1  ...  806071e6-2115-4927-8869-cbeea477f087\n1       00001773-c1a6-4652-8ba9-dc6eefcd4cd1  ...  2ec611cd-f731-4e4b-b86d-332245fa444e\n2       00001773-c1a6-4652-8ba9-dc6eefcd4cd1  ...  acc6b71d-3b01-4087-ba2b-7718e7586046\n3       00001773-c1a6-4652-8ba9-dc6eefcd4cd1  ...  02ac46bf-1fdd-40a5-b2ab-a6a4f3935d53\n4       00011eab-8526-47f2-a39e-f3a4c2ee151c  ...  95259f4e-87a8-4f8c-89de-f6a08324cacb\n...                                      ...  ...                                   ...\n145989  fffd9e02-58a5-4808-86fa-1e13399b6c29  ...  8df80bd4-5dee-408a-b60f-dd9677cd86c6\n145990  fffd9e02-58a5-4808-86fa-1e13399b6c29  ...  3c8a864c-69fa-41ec-adf8-f5a3273b00e2\n145991  fffd9e02-58a5-4808-86fa-1e13399b6c29  ...  b4886cc6-257b-4f83-be3c-5e98048aab89\n145992  fffe72cb-81ce-444e-8031-7e708d1ec1e5  ...  da3955f4-8caf-46b3-ab62-8443a3bb5204\n145993  fffe72cb-81ce-444e-8031-7e708d1ec1e5  ...  7352d108-eb31-4f9b-a499-fef908f8786c\n\n[145994 rows x 5 columns]>\nSupport: <bound method DataFrame.info of                                   ticket_id  ... resolved\n0      23671ed5-9cf6-4a6a-85f9-0fab1aac6657  ...        1\n1      d45fe7eb-4a1f-42be-8bc1-81a539e6f59f  ...        1\n2      289e3f0e-16ba-4c2f-80d5-636b1f2ae984  ...        1\n3      6f1a735b-a110-4f8e-b6b1-7f8b5781962b  ...        1\n4      1ba3850f-1dea-416b-b230-58a58e98c3b6  ...        1\n...                                     ...  ...      ...\n49995  205ce9f0-247e-4959-a5f7-5a7f7e0c7379  ...        1\n49996  d1871752-003e-486d-ab42-ee8731b601f7  ...        1\n49997  776dc71e-e600-4496-8621-7594edc31271  ...        1\n49998  f2ad8bab-5958-4be4-919f-1a213b43671f  ...        1\n49999  a894af19-af12-4c0b-9e5a-170dc4c6fa3f  ...        1\n\n[50000 rows x 5 columns]>\nTradingActivity: <bound method DataFrame.info of                                     trade_id  ...  trade_date\n0       b74a429f-4701-467e-9329-4d3573ab4c28  ...  07-04-2024\n1       84c2ca0a-da52-4759-b1ed-009705909705  ...  23-01-2025\n2       6b0f5d97-4b34-4487-b540-72b4a8f76cbc  ...  02-04-2024\n3       478f892b-a9ee-4225-8a14-e789a895838b  ...  05-03-2024\n4       83b89709-0d8f-4965-ab38-822c048616c7  ...  11-09-2024\n...                                      ...  ...         ...\n199995  8204f6ef-e407-4645-80ce-c08082f74943  ...  14-01-2025\n199996  a009fa4f-8e8f-4127-80a4-0c722911bbe0  ...  01-09-2023\n199997  60a0671e-3ea3-4680-b89a-2db9432f673c  ...  17-02-2025\n199998  5b264ba1-2b9c-4df4-843f-635e1e9d4ced  ...  28-10-2023\n199999  fd760fdc-62db-47c9-8c2c-5d9768d6f96b  ...  29-03-2024\n\n[200000 rows x 7 columns]>\n"
     ]
    }
   ],
   "source": [
    "print(\"Customers:\", customers.info)\n",
    "print(\"Engagement:\", engagement.info)\n",
    "print(\"Portfolio:\", portfolio.info)\n",
    "print(\"Support:\", support.info)\n",
    "print(\"TradingActivity:\", trading.info)"
   ]
  },
  {
   "cell_type": "code",
   "execution_count": 0,
   "metadata": {
    "application/vnd.databricks.v1+cell": {
     "cellMetadata": {
      "byteLimit": 2048000,
      "rowLimit": 10000
     },
     "inputWidgets": {},
     "nuid": "4c54c78e-348e-4746-b3a7-a99744503862",
     "showTitle": false,
     "tableResultSettingsMap": {},
     "title": ""
    }
   },
   "outputs": [
    {
     "output_type": "stream",
     "name": "stdout",
     "output_type": "stream",
     "text": [
      "                            customer_id  ... account_open_date\n0  fd94fe1f-8eb2-4623-aa3c-42040b84dad9  ...        31-12-2023\n1  748ad9c4-43c9-40e7-ad3d-7173827abe5e  ...        05-10-2020\n\n[2 rows x 6 columns]\n                            customer_id  ...  last_active_date\n0  fd94fe1f-8eb2-4623-aa3c-42040b84dad9  ...        24-08-2025\n1  748ad9c4-43c9-40e7-ad3d-7173827abe5e  ...        24-08-2025\n\n[2 rows x 5 columns]\n                            customer_id  ...                          portfolio_id\n0  00001773-c1a6-4652-8ba9-dc6eefcd4cd1  ...  806071e6-2115-4927-8869-cbeea477f087\n1  00001773-c1a6-4652-8ba9-dc6eefcd4cd1  ...  2ec611cd-f731-4e4b-b86d-332245fa444e\n\n[2 rows x 5 columns]\n                              ticket_id  ... resolved\n0  23671ed5-9cf6-4a6a-85f9-0fab1aac6657  ...        1\n1  d45fe7eb-4a1f-42be-8bc1-81a539e6f59f  ...        1\n\n[2 rows x 5 columns]\n                               trade_id  ...  trade_date\n0  b74a429f-4701-467e-9329-4d3573ab4c28  ...  07-04-2024\n1  84c2ca0a-da52-4759-b1ed-009705909705  ...  23-01-2025\n\n[2 rows x 7 columns]\n"
     ]
    }
   ],
   "source": [
    "print(customers.head(2))\n",
    "print(engagement.head(2))\n",
    "print(portfolio.head(2))\n",
    "print(support.head(2))\n",
    "print(trading.head(2))"
   ]
  },
  {
   "cell_type": "markdown",
   "metadata": {
    "application/vnd.databricks.v1+cell": {
     "cellMetadata": {
      "byteLimit": 2048000,
      "rowLimit": 10000
     },
     "inputWidgets": {},
     "nuid": "57130850-71d8-41e9-8ead-e3ada8eb96e3",
     "showTitle": false,
     "tableResultSettingsMap": {},
     "title": ""
    }
   },
   "source": [
    "##MERGING THE REQUIRED DATASET "
   ]
  },
  {
   "cell_type": "code",
   "execution_count": 0,
   "metadata": {
    "application/vnd.databricks.v1+cell": {
     "cellMetadata": {
      "byteLimit": 2048000,
      "rowLimit": 10000
     },
     "inputWidgets": {},
     "nuid": "fd90319f-d20d-4d96-9b02-bd17df66d3fd",
     "showTitle": false,
     "tableResultSettingsMap": {},
     "title": ""
    }
   },
   "outputs": [
    {
     "output_type": "stream",
     "name": "stdout",
     "output_type": "stream",
     "text": [
      "Final merged dataset: (937590, 24)\n"
     ]
    }
   ],
   "source": [
    "for customer_data in [engagement, portfolio, support, trading]:\n",
    "    if \"customer_id\" not in customer_data.columns:\n",
    "        customer_data.rename(columns={customer_data.columns[0]: \"customer_id\"}, inplace=True)\n",
    "\n",
    "#merging all the dataset\n",
    "customer_data = customers.merge(engagement, on=\"customer_id\", how=\"left\")\\\n",
    "              .merge(portfolio, on=\"customer_id\", how=\"left\")\\\n",
    "              .merge(support, on=\"customer_id\", how=\"left\")\\\n",
    "              .merge(trading, on=\"customer_id\", how=\"left\")\n",
    "\n",
    "print(\"Final merged dataset:\", customer_data.shape)"
   ]
  },
  {
   "cell_type": "markdown",
   "metadata": {
    "application/vnd.databricks.v1+cell": {
     "cellMetadata": {
      "byteLimit": 2048000,
      "rowLimit": 10000
     },
     "inputWidgets": {},
     "nuid": "3e1884eb-4f9b-4a4f-946a-5657ed6f8562",
     "showTitle": false,
     "tableResultSettingsMap": {},
     "title": ""
    }
   },
   "source": [
    "##LETS DO THE EDA"
   ]
  },
  {
   "cell_type": "code",
   "execution_count": 0,
   "metadata": {
    "application/vnd.databricks.v1+cell": {
     "cellMetadata": {
      "byteLimit": 2048000,
      "rowLimit": 10000
     },
     "inputWidgets": {},
     "nuid": "13e60b2d-cde8-415e-bc35-5266fcec9cc6",
     "showTitle": false,
     "tableResultSettingsMap": {},
     "title": ""
    }
   },
   "outputs": [
    {
     "output_type": "execute_result",
     "data": {
      "text/plain": [
       "resolution_time_hours    0.268474\n",
       "resolved                 0.268474\n",
       "issue_type               0.268474\n",
       "ticket_id                0.268474\n",
       "stock_symbol_x           0.001376\n",
       "holding_volume           0.001376\n",
       "avg_buy_price            0.001376\n",
       "portfolio_id             0.001376\n",
       "trade_type               0.001376\n",
       "trade_volume             0.001376\n",
       "trade_id                 0.001376\n",
       "stock_symbol_y           0.001376\n",
       "trade_price              0.001376\n",
       "trade_date               0.001376\n",
       "name                     0.000000\n",
       "customer_id              0.000000\n",
       "watchlist_count          0.000000\n",
       "app_logins               0.000000\n",
       "account_open_date        0.000000\n",
       "account_type             0.000000\n",
       "location                 0.000000\n",
       "age                      0.000000\n",
       "last_active_date         0.000000\n",
       "avg_session_minutes      0.000000\n",
       "dtype: float64"
      ]
     },
     "execution_count": 100,
     "metadata": {},
     "output_type": "execute_result"
    }
   ],
   "source": [
    "missing = customer_data.isnull().mean().sort_values(ascending=False)\n",
    "missing"
   ]
  },
  {
   "cell_type": "markdown",
   "metadata": {
    "application/vnd.databricks.v1+cell": {
     "cellMetadata": {
      "byteLimit": 2048000,
      "rowLimit": 10000
     },
     "inputWidgets": {},
     "nuid": "7a5e3137-3d74-426b-ae47-0446733b0d7e",
     "showTitle": false,
     "tableResultSettingsMap": {},
     "title": ""
    }
   },
   "source": [
    "##PARSE DATES \n"
   ]
  },
  {
   "cell_type": "code",
   "execution_count": 0,
   "metadata": {
    "application/vnd.databricks.v1+cell": {
     "cellMetadata": {
      "byteLimit": 2048000,
      "rowLimit": 10000
     },
     "inputWidgets": {},
     "nuid": "18f25f37-79fb-4a6c-b5f6-08153fa276af",
     "showTitle": false,
     "tableResultSettingsMap": {},
     "title": ""
    }
   },
   "outputs": [],
   "source": [
    "for customer_data, cols in [\n",
    "    (customers,  [\"account_open_date\"]),\n",
    "    (engagement, [\"last_active_date\"]),\n",
    "    (trading,    [\"trade_date\"]),\n",
    "]:\n",
    "    for c in cols:\n",
    "        if c in customer_data.columns:\n",
    "            customer_data[c] = pd.to_datetime(customer_data[c], errors=\"coerce\")"
   ]
  },
  {
   "cell_type": "markdown",
   "metadata": {
    "application/vnd.databricks.v1+cell": {
     "cellMetadata": {
      "byteLimit": 2048000,
      "rowLimit": 10000
     },
     "inputWidgets": {},
     "nuid": "e871cc90-347c-4815-b0c8-4cd125f77813",
     "showTitle": false,
     "tableResultSettingsMap": {},
     "title": ""
    }
   },
   "source": [
    "## REFRENCE \"as-of\" Dates "
   ]
  },
  {
   "cell_type": "code",
   "execution_count": 0,
   "metadata": {
    "application/vnd.databricks.v1+cell": {
     "cellMetadata": {
      "byteLimit": 2048000,
      "rowLimit": 10000
     },
     "inputWidgets": {},
     "nuid": "7c43e41d-fca1-4a74-8818-bf7169e15815",
     "showTitle": false,
     "tableResultSettingsMap": {},
     "title": ""
    }
   },
   "outputs": [],
   "source": [
    "max_trade_date = trading[\"trade_date\"].max() if \"trade_date\" in trading else pd.NaT\n",
    "max_active_date = engagement[\"last_active_date\"].max() if \"last_active_date\" in engagement else pd.NaT\n",
    "as_of_date = max(d for d in [max_trade_date, max_active_date] if pd.notna(d)) \\\n",
    "             if any(pd.notna(d) for d in [max_trade_date, max_active_date]) else pd.Timestamp.today().normalize()"
   ]
  },
  {
   "cell_type": "code",
   "execution_count": 0,
   "metadata": {
    "application/vnd.databricks.v1+cell": {
     "cellMetadata": {
      "byteLimit": 2048000,
      "rowLimit": 10000
     },
     "inputWidgets": {},
     "nuid": "49eb19c3-daef-4364-8ef2-5a0f4983cac6",
     "showTitle": false,
     "tableResultSettingsMap": {},
     "title": ""
    }
   },
   "outputs": [
    {
     "output_type": "stream",
     "name": "stdout",
     "output_type": "stream",
     "text": [
      "2025-12-08 00:00:00\n2025-08-24 00:00:00\n2025-12-08 00:00:00\n"
     ]
    }
   ],
   "source": [
    "print(max_trade_date)\n",
    "print(max_active_date)\n",
    "print(as_of_date)"
   ]
  },
  {
   "cell_type": "markdown",
   "metadata": {
    "application/vnd.databricks.v1+cell": {
     "cellMetadata": {
      "byteLimit": 2048000,
      "rowLimit": 10000
     },
     "inputWidgets": {},
     "nuid": "1e8e1149-9811-4e09-88e6-f4b7656147ba",
     "showTitle": false,
     "tableResultSettingsMap": {},
     "title": ""
    }
   },
   "source": [
    "##TRADING FEATURES ( as PER CUSTOMER)"
   ]
  },
  {
   "cell_type": "code",
   "execution_count": 0,
   "metadata": {
    "application/vnd.databricks.v1+cell": {
     "cellMetadata": {
      "byteLimit": 2048000,
      "rowLimit": 10000
     },
     "inputWidgets": {},
     "nuid": "b74536c7-22ce-4cc0-b226-42f165a32ffd",
     "showTitle": false,
     "tableResultSettingsMap": {},
     "title": ""
    }
   },
   "outputs": [],
   "source": [
    "if not trading.empty:\n",
    "    trading_feat = trading.copy()\n",
    "    trading_feat[\"trade_value\"] = trading_feat[\"trade_volume\"] * trading_feat[\"trade_price\"]\n",
    "\n",
    "    grp = trading_feat.groupby(\"customer_id\")\n",
    "    trading_agg = pd.DataFrame({\n",
    "        \"trade_count\": grp.size(),\n",
    "        \"total_trade_volume\": grp[\"trade_volume\"].sum(),\n",
    "        \"total_trade_value\": grp[\"trade_value\"].sum(),\n",
    "        \"avg_trade_value\": grp[\"trade_value\"].mean(),\n",
    "        \"avg_trade_price\": grp[\"trade_price\"].mean(),\n",
    "        \"symbol_diversity\": grp[\"stock_symbol\"].nunique(),\n",
    "        \"active_trade_days\": grp[\"trade_date\"].nunique(),\n",
    "        \"last_trade_date\": grp[\"trade_date\"].max()\n",
    "    }).reset_index()\n",
    "\n",
    "    # BUY/SELL split\n",
    "    buys = (trading_feat[\"trade_type\"] == \"BUY\").groupby(trading_feat[\"customer_id\"]).sum().rename(\"buy_trades\")\n",
    "    sells = (trading_feat[\"trade_type\"] == \"SELL\").groupby(trading_feat[\"customer_id\"]).sum().rename(\"sell_trades\")\n",
    "    trading_agg = trading_agg.merge(buys, on=\"customer_id\", how=\"left\").merge(sells, on=\"customer_id\", how=\"left\").fillna(0)\n",
    "    trading_agg[\"buy_sell_ratio\"] = trading_agg[\"buy_trades\"] / (trading_agg[\"sell_trades\"])\n",
    "\n",
    "    # Recency\n",
    "    trading_agg[\"days_since_last_trade\"] = (as_of_date - trading_agg[\"last_trade_date\"]).dt.days\n",
    "    trading_agg.drop(columns=[\"last_trade_date\"], inplace=True)\n",
    "else:\n",
    "    trading_agg = pd.DataFrame(columns=[\n",
    "        \"customer_id\",\"trade_count\",\"total_trade_volume\",\"total_trade_value\",\"avg_trade_value\",\n",
    "        \"avg_trade_price\",\"symbol_diversity\",\"active_trade_days\",\"buy_trades\",\"sell_trades\",\n",
    "        \"buy_sell_ratio\",\"days_since_last_trade\"\n",
    "    ])"
   ]
  },
  {
   "cell_type": "code",
   "execution_count": 0,
   "metadata": {
    "application/vnd.databricks.v1+cell": {
     "cellMetadata": {
      "byteLimit": 2048000,
      "rowLimit": 10000
     },
     "inputWidgets": {},
     "nuid": "345db258-63c7-48db-b551-a774f363cfb7",
     "showTitle": false,
     "tableResultSettingsMap": {},
     "title": ""
    }
   },
   "outputs": [
    {
     "output_type": "execute_result",
     "data": {
      "text/html": [
       "<div>\n",
       "<style scoped>\n",
       "    .dataframe tbody tr th:only-of-type {\n",
       "        vertical-align: middle;\n",
       "    }\n",
       "\n",
       "    .dataframe tbody tr th {\n",
       "        vertical-align: top;\n",
       "    }\n",
       "\n",
       "    .dataframe thead th {\n",
       "        text-align: right;\n",
       "    }\n",
       "</style>\n",
       "<table border=\"1\" class=\"dataframe\">\n",
       "  <thead>\n",
       "    <tr style=\"text-align: right;\">\n",
       "      <th></th>\n",
       "      <th>customer_id</th>\n",
       "      <th>trade_count</th>\n",
       "      <th>total_trade_volume</th>\n",
       "      <th>total_trade_value</th>\n",
       "      <th>avg_trade_value</th>\n",
       "      <th>avg_trade_price</th>\n",
       "      <th>symbol_diversity</th>\n",
       "      <th>active_trade_days</th>\n",
       "      <th>buy_trades</th>\n",
       "      <th>sell_trades</th>\n",
       "      <th>buy_sell_ratio</th>\n",
       "      <th>days_since_last_trade</th>\n",
       "    </tr>\n",
       "  </thead>\n",
       "  <tbody>\n",
       "    <tr>\n",
       "      <th>0</th>\n",
       "      <td>00001773-c1a6-4652-8ba9-dc6eefcd4cd1</td>\n",
       "      <td>5</td>\n",
       "      <td>1400</td>\n",
       "      <td>3901080.98</td>\n",
       "      <td>780216.196000</td>\n",
       "      <td>2673.096000</td>\n",
       "      <td>4</td>\n",
       "      <td>5</td>\n",
       "      <td>4</td>\n",
       "      <td>1</td>\n",
       "      <td>4.00</td>\n",
       "      <td>537</td>\n",
       "    </tr>\n",
       "    <tr>\n",
       "      <th>1</th>\n",
       "      <td>00011eab-8526-47f2-a39e-f3a4c2ee151c</td>\n",
       "      <td>3</td>\n",
       "      <td>665</td>\n",
       "      <td>1158148.90</td>\n",
       "      <td>386049.633333</td>\n",
       "      <td>1757.340000</td>\n",
       "      <td>3</td>\n",
       "      <td>3</td>\n",
       "      <td>2</td>\n",
       "      <td>1</td>\n",
       "      <td>2.00</td>\n",
       "      <td>135</td>\n",
       "    </tr>\n",
       "    <tr>\n",
       "      <th>2</th>\n",
       "      <td>0001afd9-6f07-4201-a477-b5d31fb0cc21</td>\n",
       "      <td>2</td>\n",
       "      <td>540</td>\n",
       "      <td>266002.77</td>\n",
       "      <td>133001.385000</td>\n",
       "      <td>858.055000</td>\n",
       "      <td>2</td>\n",
       "      <td>2</td>\n",
       "      <td>1</td>\n",
       "      <td>1</td>\n",
       "      <td>1.00</td>\n",
       "      <td>746</td>\n",
       "    </tr>\n",
       "    <tr>\n",
       "      <th>3</th>\n",
       "      <td>0001b133-92b6-41c1-b884-92e6cba788b2</td>\n",
       "      <td>3</td>\n",
       "      <td>404</td>\n",
       "      <td>450895.50</td>\n",
       "      <td>150298.500000</td>\n",
       "      <td>1652.500000</td>\n",
       "      <td>3</td>\n",
       "      <td>3</td>\n",
       "      <td>2</td>\n",
       "      <td>1</td>\n",
       "      <td>2.00</td>\n",
       "      <td>447</td>\n",
       "    </tr>\n",
       "    <tr>\n",
       "      <th>4</th>\n",
       "      <td>00054a90-3ad3-4b29-ba22-dc34707d702c</td>\n",
       "      <td>7</td>\n",
       "      <td>1680</td>\n",
       "      <td>3117267.49</td>\n",
       "      <td>445323.927143</td>\n",
       "      <td>2002.307143</td>\n",
       "      <td>5</td>\n",
       "      <td>7</td>\n",
       "      <td>3</td>\n",
       "      <td>4</td>\n",
       "      <td>0.75</td>\n",
       "      <td>30</td>\n",
       "    </tr>\n",
       "    <tr>\n",
       "      <th>...</th>\n",
       "      <td>...</td>\n",
       "      <td>...</td>\n",
       "      <td>...</td>\n",
       "      <td>...</td>\n",
       "      <td>...</td>\n",
       "      <td>...</td>\n",
       "      <td>...</td>\n",
       "      <td>...</td>\n",
       "      <td>...</td>\n",
       "      <td>...</td>\n",
       "      <td>...</td>\n",
       "      <td>...</td>\n",
       "    </tr>\n",
       "    <tr>\n",
       "      <th>49078</th>\n",
       "      <td>fff8cbd2-051c-4e4a-9e40-a23dfb964e77</td>\n",
       "      <td>6</td>\n",
       "      <td>1715</td>\n",
       "      <td>2704973.18</td>\n",
       "      <td>450828.863333</td>\n",
       "      <td>1464.301667</td>\n",
       "      <td>4</td>\n",
       "      <td>6</td>\n",
       "      <td>4</td>\n",
       "      <td>2</td>\n",
       "      <td>2.00</td>\n",
       "      <td>384</td>\n",
       "    </tr>\n",
       "    <tr>\n",
       "      <th>49079</th>\n",
       "      <td>fffb8be6-92e8-4017-8062-c9a597d464e0</td>\n",
       "      <td>2</td>\n",
       "      <td>710</td>\n",
       "      <td>785011.80</td>\n",
       "      <td>392505.900000</td>\n",
       "      <td>1039.260000</td>\n",
       "      <td>1</td>\n",
       "      <td>2</td>\n",
       "      <td>2</td>\n",
       "      <td>0</td>\n",
       "      <td>inf</td>\n",
       "      <td>444</td>\n",
       "    </tr>\n",
       "    <tr>\n",
       "      <th>49080</th>\n",
       "      <td>fffbac30-4a3f-4beb-999e-cb3af77a0bc5</td>\n",
       "      <td>5</td>\n",
       "      <td>1073</td>\n",
       "      <td>1080131.08</td>\n",
       "      <td>216026.216000</td>\n",
       "      <td>1118.586000</td>\n",
       "      <td>4</td>\n",
       "      <td>5</td>\n",
       "      <td>3</td>\n",
       "      <td>2</td>\n",
       "      <td>1.50</td>\n",
       "      <td>142</td>\n",
       "    </tr>\n",
       "    <tr>\n",
       "      <th>49081</th>\n",
       "      <td>fffd9e02-58a5-4808-86fa-1e13399b6c29</td>\n",
       "      <td>3</td>\n",
       "      <td>811</td>\n",
       "      <td>1452540.46</td>\n",
       "      <td>484180.153333</td>\n",
       "      <td>1628.813333</td>\n",
       "      <td>3</td>\n",
       "      <td>3</td>\n",
       "      <td>2</td>\n",
       "      <td>1</td>\n",
       "      <td>2.00</td>\n",
       "      <td>124</td>\n",
       "    </tr>\n",
       "    <tr>\n",
       "      <th>49082</th>\n",
       "      <td>fffe72cb-81ce-444e-8031-7e708d1ec1e5</td>\n",
       "      <td>3</td>\n",
       "      <td>583</td>\n",
       "      <td>412118.19</td>\n",
       "      <td>137372.730000</td>\n",
       "      <td>674.326667</td>\n",
       "      <td>2</td>\n",
       "      <td>3</td>\n",
       "      <td>1</td>\n",
       "      <td>2</td>\n",
       "      <td>0.50</td>\n",
       "      <td>106</td>\n",
       "    </tr>\n",
       "  </tbody>\n",
       "</table>\n",
       "<p>49083 rows × 12 columns</p>\n",
       "</div>"
      ],
      "text/plain": [
       "                                customer_id  ...  days_since_last_trade\n",
       "0      00001773-c1a6-4652-8ba9-dc6eefcd4cd1  ...                    537\n",
       "1      00011eab-8526-47f2-a39e-f3a4c2ee151c  ...                    135\n",
       "2      0001afd9-6f07-4201-a477-b5d31fb0cc21  ...                    746\n",
       "3      0001b133-92b6-41c1-b884-92e6cba788b2  ...                    447\n",
       "4      00054a90-3ad3-4b29-ba22-dc34707d702c  ...                     30\n",
       "...                                     ...  ...                    ...\n",
       "49078  fff8cbd2-051c-4e4a-9e40-a23dfb964e77  ...                    384\n",
       "49079  fffb8be6-92e8-4017-8062-c9a597d464e0  ...                    444\n",
       "49080  fffbac30-4a3f-4beb-999e-cb3af77a0bc5  ...                    142\n",
       "49081  fffd9e02-58a5-4808-86fa-1e13399b6c29  ...                    124\n",
       "49082  fffe72cb-81ce-444e-8031-7e708d1ec1e5  ...                    106\n",
       "\n",
       "[49083 rows x 12 columns]"
      ]
     },
     "execution_count": 105,
     "metadata": {},
     "output_type": "execute_result"
    },
    {
     "output_type": "display_data",
     "data": {
      "application/vnd.databricks.v1+display_df_hint": {
       "mode": "should_hint",
       "name": "trading_agg",
       "type": "pandas.core.frame.DataFrame"
      }
     },
     "metadata": {},
     "output_type": "display_data"
    }
   ],
   "source": [
    "trading_agg"
   ]
  },
  {
   "cell_type": "markdown",
   "metadata": {
    "application/vnd.databricks.v1+cell": {
     "cellMetadata": {},
     "inputWidgets": {},
     "nuid": "a6752377-8fa8-475e-a41a-729a09d074c4",
     "showTitle": false,
     "tableResultSettingsMap": {},
     "title": ""
    }
   },
   "source": [
    "## PORTFOLIO FEATURES by CUSTOMERS"
   ]
  },
  {
   "cell_type": "code",
   "execution_count": 0,
   "metadata": {
    "application/vnd.databricks.v1+cell": {
     "cellMetadata": {
      "byteLimit": 2048000,
      "rowLimit": 10000
     },
     "inputWidgets": {},
     "nuid": "93e4e6b0-2a12-4fd3-a038-e5a8ad1648c9",
     "showTitle": false,
     "tableResultSettingsMap": {},
     "title": ""
    }
   },
   "outputs": [],
   "source": [
    "if not portfolio.empty:\n",
    "    pf = portfolio.copy()\n",
    "    pf[\"position_value\"] = pf[\"holding_volume\"] * pf[\"avg_buy_price\"]\n",
    "\n",
    "    # weights per symbol -> HHI concentration & largest position %\n",
    "    def _portfolio_concentration(df):\n",
    "        total = df[\"position_value\"].sum()\n",
    "        if total <= 0:\n",
    "            return pd.Series({\n",
    "                \"portfolio_value\": 0.0,\n",
    "                \"positions_count\": df[\"stock_symbol\"].nunique(),\n",
    "                \"largest_position_pct\": 0.0,\n",
    "                \"hhi_concentration\": 0.0\n",
    "            })\n",
    "        w = df[\"position_value\"] / total\n",
    "        hhi = (w**2).sum()\n",
    "        return pd.Series({\n",
    "            \"portfolio_value\": total,\n",
    "            \"positions_count\": df[\"stock_symbol\"].nunique(),\n",
    "            \"largest_position_pct\": w.max(),\n",
    "            \"hhi_concentration\": hhi\n",
    "        })\n",
    "\n",
    "    portfolio_agg = pf.groupby(\"customer_id\").apply(_portfolio_concentration).reset_index()\n",
    "else:\n",
    "    portfolio_agg = pd.DataFrame(columns=[\n",
    "        \"customer_id\",\"portfolio_value\",\"positions_count\",\"largest_position_pct\",\"hhi_concentration\"\n",
    "    ])"
   ]
  },
  {
   "cell_type": "code",
   "execution_count": 0,
   "metadata": {
    "application/vnd.databricks.v1+cell": {
     "cellMetadata": {
      "byteLimit": 2048000,
      "rowLimit": 10000
     },
     "inputWidgets": {},
     "nuid": "ff61a024-87b4-4fcd-b4cc-037a4bffa641",
     "showTitle": false,
     "tableResultSettingsMap": {},
     "title": ""
    }
   },
   "outputs": [
    {
     "output_type": "execute_result",
     "data": {
      "text/html": [
       "<div>\n",
       "<style scoped>\n",
       "    .dataframe tbody tr th:only-of-type {\n",
       "        vertical-align: middle;\n",
       "    }\n",
       "\n",
       "    .dataframe tbody tr th {\n",
       "        vertical-align: top;\n",
       "    }\n",
       "\n",
       "    .dataframe thead th {\n",
       "        text-align: right;\n",
       "    }\n",
       "</style>\n",
       "<table border=\"1\" class=\"dataframe\">\n",
       "  <thead>\n",
       "    <tr style=\"text-align: right;\">\n",
       "      <th></th>\n",
       "      <th>customer_id</th>\n",
       "      <th>portfolio_value</th>\n",
       "      <th>positions_count</th>\n",
       "      <th>largest_position_pct</th>\n",
       "      <th>hhi_concentration</th>\n",
       "    </tr>\n",
       "  </thead>\n",
       "  <tbody>\n",
       "    <tr>\n",
       "      <th>0</th>\n",
       "      <td>00001773-c1a6-4652-8ba9-dc6eefcd4cd1</td>\n",
       "      <td>3.918697e+06</td>\n",
       "      <td>4.0</td>\n",
       "      <td>0.414751</td>\n",
       "      <td>0.298932</td>\n",
       "    </tr>\n",
       "    <tr>\n",
       "      <th>1</th>\n",
       "      <td>00011eab-8526-47f2-a39e-f3a4c2ee151c</td>\n",
       "      <td>1.158149e+06</td>\n",
       "      <td>3.0</td>\n",
       "      <td>0.811167</td>\n",
       "      <td>0.676122</td>\n",
       "    </tr>\n",
       "    <tr>\n",
       "      <th>2</th>\n",
       "      <td>0001afd9-6f07-4201-a477-b5d31fb0cc21</td>\n",
       "      <td>2.660028e+05</td>\n",
       "      <td>2.0</td>\n",
       "      <td>0.591738</td>\n",
       "      <td>0.516832</td>\n",
       "    </tr>\n",
       "    <tr>\n",
       "      <th>3</th>\n",
       "      <td>0001b133-92b6-41c1-b884-92e6cba788b2</td>\n",
       "      <td>4.508955e+05</td>\n",
       "      <td>3.0</td>\n",
       "      <td>0.700560</td>\n",
       "      <td>0.553199</td>\n",
       "    </tr>\n",
       "    <tr>\n",
       "      <th>4</th>\n",
       "      <td>00054a90-3ad3-4b29-ba22-dc34707d702c</td>\n",
       "      <td>3.380797e+06</td>\n",
       "      <td>5.0</td>\n",
       "      <td>0.310853</td>\n",
       "      <td>0.253726</td>\n",
       "    </tr>\n",
       "    <tr>\n",
       "      <th>...</th>\n",
       "      <td>...</td>\n",
       "      <td>...</td>\n",
       "      <td>...</td>\n",
       "      <td>...</td>\n",
       "      <td>...</td>\n",
       "    </tr>\n",
       "    <tr>\n",
       "      <th>49078</th>\n",
       "      <td>fff8cbd2-051c-4e4a-9e40-a23dfb964e77</td>\n",
       "      <td>2.707730e+06</td>\n",
       "      <td>4.0</td>\n",
       "      <td>0.726730</td>\n",
       "      <td>0.567761</td>\n",
       "    </tr>\n",
       "    <tr>\n",
       "      <th>49079</th>\n",
       "      <td>fffb8be6-92e8-4017-8062-c9a597d464e0</td>\n",
       "      <td>7.378746e+05</td>\n",
       "      <td>1.0</td>\n",
       "      <td>1.000000</td>\n",
       "      <td>1.000000</td>\n",
       "    </tr>\n",
       "    <tr>\n",
       "      <th>49080</th>\n",
       "      <td>fffbac30-4a3f-4beb-999e-cb3af77a0bc5</td>\n",
       "      <td>1.090431e+06</td>\n",
       "      <td>4.0</td>\n",
       "      <td>0.458325</td>\n",
       "      <td>0.410006</td>\n",
       "    </tr>\n",
       "    <tr>\n",
       "      <th>49081</th>\n",
       "      <td>fffd9e02-58a5-4808-86fa-1e13399b6c29</td>\n",
       "      <td>1.452540e+06</td>\n",
       "      <td>3.0</td>\n",
       "      <td>0.606376</td>\n",
       "      <td>0.495389</td>\n",
       "    </tr>\n",
       "    <tr>\n",
       "      <th>49082</th>\n",
       "      <td>fffe72cb-81ce-444e-8031-7e708d1ec1e5</td>\n",
       "      <td>4.290568e+05</td>\n",
       "      <td>2.0</td>\n",
       "      <td>0.856784</td>\n",
       "      <td>0.754590</td>\n",
       "    </tr>\n",
       "  </tbody>\n",
       "</table>\n",
       "<p>49083 rows × 5 columns</p>\n",
       "</div>"
      ],
      "text/plain": [
       "                                customer_id  ...  hhi_concentration\n",
       "0      00001773-c1a6-4652-8ba9-dc6eefcd4cd1  ...           0.298932\n",
       "1      00011eab-8526-47f2-a39e-f3a4c2ee151c  ...           0.676122\n",
       "2      0001afd9-6f07-4201-a477-b5d31fb0cc21  ...           0.516832\n",
       "3      0001b133-92b6-41c1-b884-92e6cba788b2  ...           0.553199\n",
       "4      00054a90-3ad3-4b29-ba22-dc34707d702c  ...           0.253726\n",
       "...                                     ...  ...                ...\n",
       "49078  fff8cbd2-051c-4e4a-9e40-a23dfb964e77  ...           0.567761\n",
       "49079  fffb8be6-92e8-4017-8062-c9a597d464e0  ...           1.000000\n",
       "49080  fffbac30-4a3f-4beb-999e-cb3af77a0bc5  ...           0.410006\n",
       "49081  fffd9e02-58a5-4808-86fa-1e13399b6c29  ...           0.495389\n",
       "49082  fffe72cb-81ce-444e-8031-7e708d1ec1e5  ...           0.754590\n",
       "\n",
       "[49083 rows x 5 columns]"
      ]
     },
     "execution_count": 114,
     "metadata": {},
     "output_type": "execute_result"
    },
    {
     "output_type": "display_data",
     "data": {
      "application/vnd.databricks.v1+display_df_hint": {
       "mode": "should_hint",
       "name": "portfolio_agg",
       "type": "pandas.core.frame.DataFrame"
      }
     },
     "metadata": {},
     "output_type": "display_data"
    }
   ],
   "source": [
    "portfolio_agg"
   ]
  },
  {
   "cell_type": "markdown",
   "metadata": {
    "application/vnd.databricks.v1+cell": {
     "cellMetadata": {},
     "inputWidgets": {},
     "nuid": "3be39484-fde1-46f2-bd52-0307bbb68920",
     "showTitle": false,
     "tableResultSettingsMap": {},
     "title": ""
    }
   },
   "source": [
    "##ENGAMENT FEATURES by CUSOMTER\n",
    "to determine  "
   ]
  },
  {
   "cell_type": "code",
   "execution_count": 0,
   "metadata": {
    "application/vnd.databricks.v1+cell": {
     "cellMetadata": {
      "byteLimit": 2048000,
      "rowLimit": 10000
     },
     "inputWidgets": {},
     "nuid": "7e97defc-8ff4-411f-8ef1-8e8f185126c7",
     "showTitle": false,
     "tableResultSettingsMap": {},
     "title": ""
    }
   },
   "outputs": [],
   "source": [
    "if not engagement.empty:\n",
    "    eng = engagement.copy()\n",
    "    eng[\"days_since_last_active\"] = (as_of_date - eng[\"last_active_date\"]).dt.days\n",
    "    engagement_agg = eng[[\n",
    "        \"customer_id\",\"app_logins\",\"watchlist_count\",\"avg_session_minutes\",\"days_since_last_active\"\n",
    "    ]].copy()\n",
    "else:\n",
    "    engagement_agg = pd.DataFrame(columns=[\n",
    "        \"customer_id\",\"app_logins\",\"watchlist_count\",\"avg_session_minutes\",\"days_since_last_active\"\n",
    "    ])"
   ]
  },
  {
   "cell_type": "code",
   "execution_count": 0,
   "metadata": {
    "application/vnd.databricks.v1+cell": {
     "cellMetadata": {
      "byteLimit": 2048000,
      "rowLimit": 10000
     },
     "inputWidgets": {},
     "nuid": "53a42ecd-94a9-4be4-9757-6d6603705a24",
     "showTitle": false,
     "tableResultSettingsMap": {},
     "title": ""
    }
   },
   "outputs": [
    {
     "output_type": "execute_result",
     "data": {
      "text/html": [
       "<div>\n",
       "<style scoped>\n",
       "    .dataframe tbody tr th:only-of-type {\n",
       "        vertical-align: middle;\n",
       "    }\n",
       "\n",
       "    .dataframe tbody tr th {\n",
       "        vertical-align: top;\n",
       "    }\n",
       "\n",
       "    .dataframe thead th {\n",
       "        text-align: right;\n",
       "    }\n",
       "</style>\n",
       "<table border=\"1\" class=\"dataframe\">\n",
       "  <thead>\n",
       "    <tr style=\"text-align: right;\">\n",
       "      <th></th>\n",
       "      <th>customer_id</th>\n",
       "      <th>app_logins</th>\n",
       "      <th>watchlist_count</th>\n",
       "      <th>avg_session_minutes</th>\n",
       "      <th>days_since_last_active</th>\n",
       "    </tr>\n",
       "  </thead>\n",
       "  <tbody>\n",
       "    <tr>\n",
       "      <th>0</th>\n",
       "      <td>fd94fe1f-8eb2-4623-aa3c-42040b84dad9</td>\n",
       "      <td>323</td>\n",
       "      <td>30</td>\n",
       "      <td>49.92</td>\n",
       "      <td>106</td>\n",
       "    </tr>\n",
       "    <tr>\n",
       "      <th>1</th>\n",
       "      <td>748ad9c4-43c9-40e7-ad3d-7173827abe5e</td>\n",
       "      <td>60</td>\n",
       "      <td>22</td>\n",
       "      <td>30.78</td>\n",
       "      <td>106</td>\n",
       "    </tr>\n",
       "    <tr>\n",
       "      <th>2</th>\n",
       "      <td>0cdbb69c-14c0-46e6-aaae-63ac632eceea</td>\n",
       "      <td>464</td>\n",
       "      <td>18</td>\n",
       "      <td>3.57</td>\n",
       "      <td>106</td>\n",
       "    </tr>\n",
       "    <tr>\n",
       "      <th>3</th>\n",
       "      <td>940c4ee2-1b31-4c61-942b-fe6256ddb797</td>\n",
       "      <td>435</td>\n",
       "      <td>43</td>\n",
       "      <td>56.72</td>\n",
       "      <td>106</td>\n",
       "    </tr>\n",
       "    <tr>\n",
       "      <th>4</th>\n",
       "      <td>b98d8294-d450-4b5b-bcc8-dce9587ebea5</td>\n",
       "      <td>295</td>\n",
       "      <td>39</td>\n",
       "      <td>11.40</td>\n",
       "      <td>106</td>\n",
       "    </tr>\n",
       "    <tr>\n",
       "      <th>...</th>\n",
       "      <td>...</td>\n",
       "      <td>...</td>\n",
       "      <td>...</td>\n",
       "      <td>...</td>\n",
       "      <td>...</td>\n",
       "    </tr>\n",
       "    <tr>\n",
       "      <th>49995</th>\n",
       "      <td>e423b767-6e69-463c-8be3-44cdb8c1a835</td>\n",
       "      <td>315</td>\n",
       "      <td>20</td>\n",
       "      <td>50.19</td>\n",
       "      <td>106</td>\n",
       "    </tr>\n",
       "    <tr>\n",
       "      <th>49996</th>\n",
       "      <td>c7c57773-f556-44da-948f-08d771cc25cd</td>\n",
       "      <td>337</td>\n",
       "      <td>13</td>\n",
       "      <td>51.61</td>\n",
       "      <td>106</td>\n",
       "    </tr>\n",
       "    <tr>\n",
       "      <th>49997</th>\n",
       "      <td>5c3a6120-c325-471f-b86b-6d1148ec3321</td>\n",
       "      <td>73</td>\n",
       "      <td>33</td>\n",
       "      <td>58.63</td>\n",
       "      <td>106</td>\n",
       "    </tr>\n",
       "    <tr>\n",
       "      <th>49998</th>\n",
       "      <td>dfd653ee-631c-4cc7-95b6-52749576175e</td>\n",
       "      <td>51</td>\n",
       "      <td>39</td>\n",
       "      <td>45.43</td>\n",
       "      <td>106</td>\n",
       "    </tr>\n",
       "    <tr>\n",
       "      <th>49999</th>\n",
       "      <td>5159e48f-f81b-4cb5-8ef1-d096094e62ea</td>\n",
       "      <td>376</td>\n",
       "      <td>22</td>\n",
       "      <td>8.48</td>\n",
       "      <td>106</td>\n",
       "    </tr>\n",
       "  </tbody>\n",
       "</table>\n",
       "<p>50000 rows × 5 columns</p>\n",
       "</div>"
      ],
      "text/plain": [
       "                                customer_id  ...  days_since_last_active\n",
       "0      fd94fe1f-8eb2-4623-aa3c-42040b84dad9  ...                     106\n",
       "1      748ad9c4-43c9-40e7-ad3d-7173827abe5e  ...                     106\n",
       "2      0cdbb69c-14c0-46e6-aaae-63ac632eceea  ...                     106\n",
       "3      940c4ee2-1b31-4c61-942b-fe6256ddb797  ...                     106\n",
       "4      b98d8294-d450-4b5b-bcc8-dce9587ebea5  ...                     106\n",
       "...                                     ...  ...                     ...\n",
       "49995  e423b767-6e69-463c-8be3-44cdb8c1a835  ...                     106\n",
       "49996  c7c57773-f556-44da-948f-08d771cc25cd  ...                     106\n",
       "49997  5c3a6120-c325-471f-b86b-6d1148ec3321  ...                     106\n",
       "49998  dfd653ee-631c-4cc7-95b6-52749576175e  ...                     106\n",
       "49999  5159e48f-f81b-4cb5-8ef1-d096094e62ea  ...                     106\n",
       "\n",
       "[50000 rows x 5 columns]"
      ]
     },
     "execution_count": 119,
     "metadata": {},
     "output_type": "execute_result"
    },
    {
     "output_type": "display_data",
     "data": {
      "application/vnd.databricks.v1+display_df_hint": {
       "mode": "should_hint",
       "name": "engagement_agg",
       "type": "pandas.core.frame.DataFrame"
      }
     },
     "metadata": {},
     "output_type": "display_data"
    }
   ],
   "source": [
    "engagement_agg"
   ]
  },
  {
   "cell_type": "markdown",
   "metadata": {
    "application/vnd.databricks.v1+cell": {
     "cellMetadata": {},
     "inputWidgets": {},
     "nuid": "4aec1d23-a579-4f98-9dfe-08eb596e8a98",
     "showTitle": false,
     "tableResultSettingsMap": {},
     "title": ""
    }
   },
   "source": [
    "##CUSTOMER SUPPORT RESOLUTION "
   ]
  },
  {
   "cell_type": "code",
   "execution_count": 0,
   "metadata": {
    "application/vnd.databricks.v1+cell": {
     "cellMetadata": {
      "byteLimit": 2048000,
      "rowLimit": 10000
     },
     "inputWidgets": {},
     "nuid": "58e5af25-833e-4344-9fc9-f8481a133c24",
     "showTitle": false,
     "tableResultSettingsMap": {},
     "title": ""
    }
   },
   "outputs": [],
   "source": [
    "if not support.empty:\n",
    "    sup = support.copy()\n",
    "    \n",
    "    # Group by customer to calculate support-related metrics\n",
    "    sup_grp = sup.groupby(\"customer_id\")\n",
    "    \n",
    "    # Aggregate metrics:\n",
    "    # - tickets_count: total tickets per customer\n",
    "    # - avg_resolution_time_hours: mean time to resolve tickets\n",
    "    # - unresolved_rate: share of unresolved tickets (1 - mean(resolved))\n",
    "    support_agg = pd.DataFrame({\n",
    "        \"customer_id\": sup_grp.size().index,  # customer_id after grouping\n",
    "        \"tickets_count\": sup_grp.size().values,  \n",
    "        \"avg_resolution_time_hours\": sup_grp[\"resolution_time_hours\"].mean().values,\n",
    "        \"unresolved_rate\": (1 - sup_grp[\"resolved\"].mean()).values\n",
    "    }).reset_index(drop=True)\n",
    "    \n",
    "else:\n",
    "    # In case no support data is available\n",
    "    support_agg = pd.DataFrame(columns=[\n",
    "        \"customer_id\",\"tickets_count\",\"avg_resolution_time_hours\",\"unresolved_rate\"\n",
    "    ])"
   ]
  },
  {
   "cell_type": "code",
   "execution_count": 0,
   "metadata": {
    "application/vnd.databricks.v1+cell": {
     "cellMetadata": {
      "byteLimit": 2048000,
      "rowLimit": 10000
     },
     "inputWidgets": {},
     "nuid": "6750dac3-cb8b-4942-bb45-7c7f44c86711",
     "showTitle": false,
     "tableResultSettingsMap": {},
     "title": ""
    }
   },
   "outputs": [
    {
     "output_type": "execute_result",
     "data": {
      "text/html": [
       "<div>\n",
       "<style scoped>\n",
       "    .dataframe tbody tr th:only-of-type {\n",
       "        vertical-align: middle;\n",
       "    }\n",
       "\n",
       "    .dataframe tbody tr th {\n",
       "        vertical-align: top;\n",
       "    }\n",
       "\n",
       "    .dataframe thead th {\n",
       "        text-align: right;\n",
       "    }\n",
       "</style>\n",
       "<table border=\"1\" class=\"dataframe\">\n",
       "  <thead>\n",
       "    <tr style=\"text-align: right;\">\n",
       "      <th></th>\n",
       "      <th>customer_id</th>\n",
       "      <th>tickets_count</th>\n",
       "      <th>avg_resolution_time_hours</th>\n",
       "      <th>unresolved_rate</th>\n",
       "    </tr>\n",
       "  </thead>\n",
       "  <tbody>\n",
       "    <tr>\n",
       "      <th>0</th>\n",
       "      <td>00011eab-8526-47f2-a39e-f3a4c2ee151c</td>\n",
       "      <td>1</td>\n",
       "      <td>70.0</td>\n",
       "      <td>1.0</td>\n",
       "    </tr>\n",
       "    <tr>\n",
       "      <th>1</th>\n",
       "      <td>0001afd9-6f07-4201-a477-b5d31fb0cc21</td>\n",
       "      <td>2</td>\n",
       "      <td>55.5</td>\n",
       "      <td>0.0</td>\n",
       "    </tr>\n",
       "    <tr>\n",
       "      <th>2</th>\n",
       "      <td>00054a90-3ad3-4b29-ba22-dc34707d702c</td>\n",
       "      <td>2</td>\n",
       "      <td>24.5</td>\n",
       "      <td>0.0</td>\n",
       "    </tr>\n",
       "    <tr>\n",
       "      <th>3</th>\n",
       "      <td>0006fada-cc42-475c-9e32-d06513ca1562</td>\n",
       "      <td>1</td>\n",
       "      <td>59.0</td>\n",
       "      <td>0.0</td>\n",
       "    </tr>\n",
       "    <tr>\n",
       "      <th>4</th>\n",
       "      <td>00071cd6-bf02-4eb1-b954-713198d8b0e6</td>\n",
       "      <td>1</td>\n",
       "      <td>7.0</td>\n",
       "      <td>0.0</td>\n",
       "    </tr>\n",
       "    <tr>\n",
       "      <th>...</th>\n",
       "      <td>...</td>\n",
       "      <td>...</td>\n",
       "      <td>...</td>\n",
       "      <td>...</td>\n",
       "    </tr>\n",
       "    <tr>\n",
       "      <th>31626</th>\n",
       "      <td>fff5985a-19dc-4450-861d-b2ec80c713e1</td>\n",
       "      <td>1</td>\n",
       "      <td>24.0</td>\n",
       "      <td>0.0</td>\n",
       "    </tr>\n",
       "    <tr>\n",
       "      <th>31627</th>\n",
       "      <td>fff6fcb3-43e3-4e5f-a962-409a1bbdb6a0</td>\n",
       "      <td>2</td>\n",
       "      <td>32.5</td>\n",
       "      <td>0.0</td>\n",
       "    </tr>\n",
       "    <tr>\n",
       "      <th>31628</th>\n",
       "      <td>fff8cbd2-051c-4e4a-9e40-a23dfb964e77</td>\n",
       "      <td>1</td>\n",
       "      <td>20.0</td>\n",
       "      <td>0.0</td>\n",
       "    </tr>\n",
       "    <tr>\n",
       "      <th>31629</th>\n",
       "      <td>fffb8be6-92e8-4017-8062-c9a597d464e0</td>\n",
       "      <td>1</td>\n",
       "      <td>27.0</td>\n",
       "      <td>0.0</td>\n",
       "    </tr>\n",
       "    <tr>\n",
       "      <th>31630</th>\n",
       "      <td>fffd9e02-58a5-4808-86fa-1e13399b6c29</td>\n",
       "      <td>1</td>\n",
       "      <td>7.0</td>\n",
       "      <td>0.0</td>\n",
       "    </tr>\n",
       "  </tbody>\n",
       "</table>\n",
       "<p>31631 rows × 4 columns</p>\n",
       "</div>"
      ],
      "text/plain": [
       "                                customer_id  ...  unresolved_rate\n",
       "0      00011eab-8526-47f2-a39e-f3a4c2ee151c  ...              1.0\n",
       "1      0001afd9-6f07-4201-a477-b5d31fb0cc21  ...              0.0\n",
       "2      00054a90-3ad3-4b29-ba22-dc34707d702c  ...              0.0\n",
       "3      0006fada-cc42-475c-9e32-d06513ca1562  ...              0.0\n",
       "4      00071cd6-bf02-4eb1-b954-713198d8b0e6  ...              0.0\n",
       "...                                     ...  ...              ...\n",
       "31626  fff5985a-19dc-4450-861d-b2ec80c713e1  ...              0.0\n",
       "31627  fff6fcb3-43e3-4e5f-a962-409a1bbdb6a0  ...              0.0\n",
       "31628  fff8cbd2-051c-4e4a-9e40-a23dfb964e77  ...              0.0\n",
       "31629  fffb8be6-92e8-4017-8062-c9a597d464e0  ...              0.0\n",
       "31630  fffd9e02-58a5-4808-86fa-1e13399b6c29  ...              0.0\n",
       "\n",
       "[31631 rows x 4 columns]"
      ]
     },
     "execution_count": 125,
     "metadata": {},
     "output_type": "execute_result"
    },
    {
     "output_type": "display_data",
     "data": {
      "application/vnd.databricks.v1+display_df_hint": {
       "mode": "should_hint",
       "name": "support_agg",
       "type": "pandas.core.frame.DataFrame"
      }
     },
     "metadata": {},
     "output_type": "display_data"
    }
   ],
   "source": [
    "support_agg"
   ]
  },
  {
   "cell_type": "markdown",
   "metadata": {
    "application/vnd.databricks.v1+cell": {
     "cellMetadata": {},
     "inputWidgets": {},
     "nuid": "7ba1a663-8294-45f4-94ca-4eae0107eea3",
     "showTitle": false,
     "tableResultSettingsMap": {},
     "title": ""
    }
   },
   "source": []
  },
  {
   "cell_type": "code",
   "execution_count": 0,
   "metadata": {
    "application/vnd.databricks.v1+cell": {
     "cellMetadata": {},
     "inputWidgets": {},
     "nuid": "542d1868-4e2b-4f92-9b7b-fb6476bb3824",
     "showTitle": false,
     "tableResultSettingsMap": {},
     "title": ""
    }
   },
   "outputs": [],
   "source": []
  }
 ],
 "metadata": {
  "application/vnd.databricks.v1+notebook": {
   "computePreferences": null,
   "dashboards": [],
   "environmentMetadata": {
    "base_environment": "",
    "environment_version": "3"
   },
   "inputWidgetPreferences": null,
   "language": "python",
   "notebookMetadata": {
    "pythonIndentUnit": 4
   },
   "notebookName": "BROKER ANALYSIS PROJECT",
   "widgets": {}
  },
  "language_info": {
   "name": "python"
  }
 },
 "nbformat": 4,
 "nbformat_minor": 0
}